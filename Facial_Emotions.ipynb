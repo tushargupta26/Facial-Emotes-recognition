{
  "nbformat": 4,
  "nbformat_minor": 0,
  "metadata": {
    "colab": {
      "name": "Facial_Emotions.ipynb",
      "provenance": [],
      "authorship_tag": "ABX9TyOhz9GFJujPZfdDTZOiHJ4p",
      "include_colab_link": true
    },
    "kernelspec": {
      "name": "python3",
      "display_name": "Python 3"
    },
    "language_info": {
      "name": "python"
    },
    "accelerator": "GPU"
  },
  "cells": [
    {
      "cell_type": "markdown",
      "metadata": {
        "id": "view-in-github",
        "colab_type": "text"
      },
      "source": [
        "<a href=\"https://colab.research.google.com/github/tushargupta26/Facial-Emotes-recognition/blob/main/Facial_Emotions.ipynb\" target=\"_parent\"><img src=\"https://colab.research.google.com/assets/colab-badge.svg\" alt=\"Open In Colab\"/></a>"
      ]
    },
    {
      "cell_type": "code",
      "metadata": {
        "colab": {
          "base_uri": "https://localhost:8080/"
        },
        "id": "ENUp_oaNbfET",
        "outputId": "1a1af158-8c65-4a56-c86e-a5fbf755f0bc"
      },
      "source": [
        "!git clone https://github.com/muxspace/facial_expressions"
      ],
      "execution_count": null,
      "outputs": [
        {
          "output_type": "stream",
          "text": [
            "Cloning into 'facial_expressions'...\n",
            "remote: Enumerating objects: 14214, done.\u001b[K\n",
            "remote: Total 14214 (delta 0), reused 0 (delta 0), pack-reused 14214\u001b[K\n",
            "Receiving objects: 100% (14214/14214), 239.65 MiB | 10.65 MiB/s, done.\n",
            "Resolving deltas: 100% (223/223), done.\n",
            "Checking out files: 100% (13996/13996), done.\n"
          ],
          "name": "stdout"
        }
      ]
    },
    {
      "cell_type": "code",
      "metadata": {
        "id": "U0FQvkEgcPF4"
      },
      "source": [
        "import csv\n",
        "data = {}\n",
        "with open ('/content/facial_expressions/data/legend.csv') as f:\n",
        "  reader = csv.reader(f)\n",
        "  next(reader)\n",
        "  for row in reader:\n",
        "    key = row[2].lower()\n",
        "    if key in data:\n",
        "      data[key].append(row[1])\n",
        "    else:\n",
        "      data[key] = [row[1]]"
      ],
      "execution_count": null,
      "outputs": []
    },
    {
      "cell_type": "code",
      "metadata": {
        "colab": {
          "base_uri": "https://localhost:8080/"
        },
        "id": "Y_3WcIFjdLzv",
        "outputId": "d31b3e2e-4020-4813-bc50-97d303570b03"
      },
      "source": [
        "emotion_list = list(data.keys())\n",
        "emotion_list"
      ],
      "execution_count": null,
      "outputs": [
        {
          "output_type": "execute_result",
          "data": {
            "text/plain": [
              "['anger',\n",
              " 'surprise',\n",
              " 'disgust',\n",
              " 'fear',\n",
              " 'neutral',\n",
              " 'happiness',\n",
              " 'sadness',\n",
              " 'contempt']"
            ]
          },
          "metadata": {
            "tags": []
          },
          "execution_count": 4
        }
      ]
    },
    {
      "cell_type": "code",
      "metadata": {
        "id": "JhFHGRYeemI7"
      },
      "source": [
        "import os\n",
        "\n",
        "os.mkdir('master_data')\n",
        "os.mkdir('master_data/training')\n",
        "os.mkdir('master_data/testing')"
      ],
      "execution_count": null,
      "outputs": []
    },
    {
      "cell_type": "code",
      "metadata": {
        "id": "QXCuEtnQfCco"
      },
      "source": [
        "for emotion in emotion_list:\n",
        "  os.mkdir(os.path.join('master_data/training/', emotion))\n",
        "  os.mkdir(os.path.join('master_data/testing/', emotion))"
      ],
      "execution_count": null,
      "outputs": []
    },
    {
      "cell_type": "code",
      "metadata": {
        "id": "TX3JIALUfZpt"
      },
      "source": [
        "from shutil import copyfile\n",
        "split_size = 0.8\n",
        "\n",
        "for emotion, images in data.items():\n",
        "  train_size = int(split_size * len(images))\n",
        "  train_images = images[:train_size]\n",
        "  test_images = images[train_size:]\n",
        "  for image in train_images:\n",
        "    source = os.path.join('/content/facial_expressions/images', image)\n",
        "    dest = os.path.join('/content/master_data/training', emotion, image)\n",
        "    copyfile(source, dest)\n",
        "  for image in test_images:\n",
        "    source = os.path.join('/content/facial_expressions/images', image)\n",
        "    dest = os.path.join('/content/master_data/testing', emotion, image)\n",
        "    copyfile(source, dest)"
      ],
      "execution_count": null,
      "outputs": []
    },
    {
      "cell_type": "code",
      "metadata": {
        "id": "OqHT-scahlOy"
      },
      "source": [
        "import tensorflow as tf\n",
        "from tensorflow.keras.preprocessing.image import ImageDataGenerator\n",
        "from tensorflow.keras.optimizers import Adam\n",
        "from tensorflow.keras.callbacks import EarlyStopping\n",
        "from tensorflow.keras.layers import Conv2D, MaxPooling2D, Dense, Flatten"
      ],
      "execution_count": null,
      "outputs": []
    },
    {
      "cell_type": "code",
      "metadata": {
        "colab": {
          "base_uri": "https://localhost:8080/"
        },
        "id": "KF7qvF3omiXo",
        "outputId": "8cd586d7-b80f-4e37-e415-b683674ac2ee"
      },
      "source": [
        "model = tf.keras.models.Sequential([\n",
        "      Conv2D(16, [3,3], activation = 'relu', input_shape =[100, 100, 3] ),\n",
        "      MaxPooling2D(2,2),\n",
        "      Conv2D(32, [3,3], activation = 'relu' ),\n",
        "      MaxPooling2D(2,2),\n",
        "      Conv2D(64, [3,3], activation = 'relu' ),\n",
        "      MaxPooling2D(2,2),\n",
        "      Flatten(),\n",
        "      Dense(1024, activation = 'relu'),\n",
        "      Dense(8, activation = 'softmax')\n",
        "])\n",
        "\n",
        "model.compile(optimizer = Adam(lr = 0.01), loss = 'categorical_crossentropy', metrics = [\"accuracy\"])\n",
        "model.summary()"
      ],
      "execution_count": null,
      "outputs": [
        {
          "output_type": "stream",
          "text": [
            "Model: \"sequential_5\"\n",
            "_________________________________________________________________\n",
            "Layer (type)                 Output Shape              Param #   \n",
            "=================================================================\n",
            "conv2d_15 (Conv2D)           (None, 98, 98, 16)        448       \n",
            "_________________________________________________________________\n",
            "max_pooling2d_15 (MaxPooling (None, 49, 49, 16)        0         \n",
            "_________________________________________________________________\n",
            "conv2d_16 (Conv2D)           (None, 47, 47, 32)        4640      \n",
            "_________________________________________________________________\n",
            "max_pooling2d_16 (MaxPooling (None, 23, 23, 32)        0         \n",
            "_________________________________________________________________\n",
            "conv2d_17 (Conv2D)           (None, 21, 21, 64)        18496     \n",
            "_________________________________________________________________\n",
            "max_pooling2d_17 (MaxPooling (None, 10, 10, 64)        0         \n",
            "_________________________________________________________________\n",
            "flatten_5 (Flatten)          (None, 6400)              0         \n",
            "_________________________________________________________________\n",
            "dense_10 (Dense)             (None, 1024)              6554624   \n",
            "_________________________________________________________________\n",
            "dense_11 (Dense)             (None, 8)                 8200      \n",
            "=================================================================\n",
            "Total params: 6,586,408\n",
            "Trainable params: 6,586,408\n",
            "Non-trainable params: 0\n",
            "_________________________________________________________________\n"
          ],
          "name": "stdout"
        }
      ]
    },
    {
      "cell_type": "code",
      "metadata": {
        "colab": {
          "base_uri": "https://localhost:8080/"
        },
        "id": "nT3TlyVkobaa",
        "outputId": "ce662e78-6017-4769-cbdc-a8685a57d196"
      },
      "source": [
        "train_dir = '/content/master_data/training'\n",
        "test_dir = '/content/master_data/testing'\n",
        "\n",
        "train_datagen = ImageDataGenerator(rescale = 1.0/255)\n",
        "train_generator = train_datagen.flow_from_directory(\n",
        "                                                  train_dir,\n",
        "                                                  target_size = (100,100),\n",
        "                                                  class_mode = \"categorical\",\n",
        "                                                  batch_size = 128\n",
        ")\n",
        "test_datagen = ImageDataGenerator(rescale = 1.0/255)\n",
        "test_generator = test_datagen.flow_from_directory(\n",
        "                                                  test_dir,\n",
        "                                                  target_size = (100,100),\n",
        "                                                  class_mode = 'categorical',\n",
        "                                                  batch_size = 128\n",
        ")"
      ],
      "execution_count": null,
      "outputs": [
        {
          "output_type": "stream",
          "text": [
            "Found 10941 images belonging to 8 classes.\n",
            "Found 2742 images belonging to 8 classes.\n"
          ],
          "name": "stdout"
        }
      ]
    },
    {
      "cell_type": "code",
      "metadata": {
        "colab": {
          "base_uri": "https://localhost:8080/"
        },
        "id": "60bZc3vwrXx1",
        "outputId": "8f37f57b-6864-4b21-fef4-0c2a04a6fd4d"
      },
      "source": [
        "test_generator"
      ],
      "execution_count": null,
      "outputs": [
        {
          "output_type": "execute_result",
          "data": {
            "text/plain": [
              "<tensorflow.python.keras.preprocessing.image.DirectoryIterator at 0x7fd784aea790>"
            ]
          },
          "metadata": {
            "tags": []
          },
          "execution_count": 33
        }
      ]
    },
    {
      "cell_type": "code",
      "metadata": {
        "id": "IdOYeRc9rhC-"
      },
      "source": [
        "es = EarlyStopping(monitor='val_acc', patience=2, min_delta=0.01)\n"
      ],
      "execution_count": null,
      "outputs": []
    },
    {
      "cell_type": "code",
      "metadata": {
        "colab": {
          "base_uri": "https://localhost:8080/"
        },
        "id": "SCA94S9frxSt",
        "outputId": "ca73e2b1-b939-43e2-bf76-60a22e9cd56f"
      },
      "source": [
        "model.fit_generator(train_generator,\n",
        "                    epochs = 10,\n",
        "                    verbose = 1,\n",
        "                    validation_data = test_generator,\n",
        "                    callbacks = [es]\n",
        "                    )"
      ],
      "execution_count": null,
      "outputs": [
        {
          "output_type": "stream",
          "text": [
            "/usr/local/lib/python3.7/dist-packages/tensorflow/python/keras/engine/training.py:1844: UserWarning: `Model.fit_generator` is deprecated and will be removed in a future version. Please use `Model.fit`, which supports generators.\n",
            "  warnings.warn('`Model.fit_generator` is deprecated and '\n"
          ],
          "name": "stderr"
        },
        {
          "output_type": "stream",
          "text": [
            "Epoch 1/10\n",
            "86/86 [==============================] - 19s 215ms/step - loss: 5.3144 - accuracy: 0.4225 - val_loss: 1.0470 - val_accuracy: 0.5011\n",
            "WARNING:tensorflow:Early stopping conditioned on metric `val_acc` which is not available. Available metrics are: loss,accuracy,val_loss,val_accuracy\n",
            "Epoch 2/10\n",
            "86/86 [==============================] - 18s 215ms/step - loss: 1.0337 - accuracy: 0.5040 - val_loss: 1.0424 - val_accuracy: 0.5011\n",
            "WARNING:tensorflow:Early stopping conditioned on metric `val_acc` which is not available. Available metrics are: loss,accuracy,val_loss,val_accuracy\n",
            "Epoch 3/10\n",
            "86/86 [==============================] - 19s 217ms/step - loss: 1.0441 - accuracy: 0.5002 - val_loss: 1.0424 - val_accuracy: 0.5011\n",
            "WARNING:tensorflow:Early stopping conditioned on metric `val_acc` which is not available. Available metrics are: loss,accuracy,val_loss,val_accuracy\n",
            "Epoch 4/10\n",
            "86/86 [==============================] - 19s 219ms/step - loss: 1.0296 - accuracy: 0.5038 - val_loss: 1.0423 - val_accuracy: 0.5011\n",
            "WARNING:tensorflow:Early stopping conditioned on metric `val_acc` which is not available. Available metrics are: loss,accuracy,val_loss,val_accuracy\n",
            "Epoch 5/10\n",
            "86/86 [==============================] - 19s 216ms/step - loss: 1.0493 - accuracy: 0.4894 - val_loss: 1.0491 - val_accuracy: 0.5011\n",
            "WARNING:tensorflow:Early stopping conditioned on metric `val_acc` which is not available. Available metrics are: loss,accuracy,val_loss,val_accuracy\n",
            "Epoch 6/10\n",
            "86/86 [==============================] - 18s 215ms/step - loss: 1.0663 - accuracy: 0.4747 - val_loss: 1.0428 - val_accuracy: 0.5011\n",
            "WARNING:tensorflow:Early stopping conditioned on metric `val_acc` which is not available. Available metrics are: loss,accuracy,val_loss,val_accuracy\n",
            "Epoch 7/10\n",
            "86/86 [==============================] - 18s 211ms/step - loss: 1.0502 - accuracy: 0.4643 - val_loss: 1.0420 - val_accuracy: 0.5011\n",
            "WARNING:tensorflow:Early stopping conditioned on metric `val_acc` which is not available. Available metrics are: loss,accuracy,val_loss,val_accuracy\n",
            "Epoch 8/10\n",
            "86/86 [==============================] - 18s 213ms/step - loss: 1.0300 - accuracy: 0.5028 - val_loss: 1.0422 - val_accuracy: 0.5011\n",
            "WARNING:tensorflow:Early stopping conditioned on metric `val_acc` which is not available. Available metrics are: loss,accuracy,val_loss,val_accuracy\n",
            "Epoch 9/10\n",
            "86/86 [==============================] - 18s 215ms/step - loss: 1.0331 - accuracy: 0.4976 - val_loss: 1.0441 - val_accuracy: 0.5011\n",
            "WARNING:tensorflow:Early stopping conditioned on metric `val_acc` which is not available. Available metrics are: loss,accuracy,val_loss,val_accuracy\n",
            "Epoch 10/10\n",
            "86/86 [==============================] - 18s 213ms/step - loss: 1.0494 - accuracy: 0.4971 - val_loss: 1.0458 - val_accuracy: 0.5011\n",
            "WARNING:tensorflow:Early stopping conditioned on metric `val_acc` which is not available. Available metrics are: loss,accuracy,val_loss,val_accuracy\n"
          ],
          "name": "stdout"
        },
        {
          "output_type": "execute_result",
          "data": {
            "text/plain": [
              "<tensorflow.python.keras.callbacks.History at 0x7fd7816f9ed0>"
            ]
          },
          "metadata": {
            "tags": []
          },
          "execution_count": 43
        }
      ]
    },
    {
      "cell_type": "code",
      "metadata": {
        "id": "HEN2IZ9UsPHZ"
      },
      "source": [
        ""
      ],
      "execution_count": null,
      "outputs": []
    },
    {
      "cell_type": "code",
      "metadata": {
        "id": "uV9o3hwdrQ1I"
      },
      "source": [
        ""
      ],
      "execution_count": null,
      "outputs": []
    },
    {
      "cell_type": "code",
      "metadata": {
        "id": "9lvDqxEXrEaN"
      },
      "source": [
        ""
      ],
      "execution_count": null,
      "outputs": []
    },
    {
      "cell_type": "code",
      "metadata": {
        "id": "Z8d83Qioqlwq"
      },
      "source": [
        ""
      ],
      "execution_count": null,
      "outputs": []
    },
    {
      "cell_type": "code",
      "metadata": {
        "id": "bmpgEjrpqdMj"
      },
      "source": [
        ""
      ],
      "execution_count": null,
      "outputs": []
    },
    {
      "cell_type": "code",
      "metadata": {
        "id": "Za5aymTuoWOV"
      },
      "source": [
        ""
      ],
      "execution_count": null,
      "outputs": []
    },
    {
      "cell_type": "code",
      "metadata": {
        "id": "B-GaijrqoEUj"
      },
      "source": [
        ""
      ],
      "execution_count": null,
      "outputs": []
    },
    {
      "cell_type": "code",
      "metadata": {
        "id": "l6j0HjO8n8p-"
      },
      "source": [
        ""
      ],
      "execution_count": null,
      "outputs": []
    },
    {
      "cell_type": "code",
      "metadata": {
        "id": "hcS4sjZsdIVa"
      },
      "source": [
        ""
      ],
      "execution_count": null,
      "outputs": []
    }
  ]
}